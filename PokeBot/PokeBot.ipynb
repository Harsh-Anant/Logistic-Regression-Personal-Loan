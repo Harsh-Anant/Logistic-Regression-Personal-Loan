{
 "cells": [
  {
   "cell_type": "code",
   "execution_count": 1,
   "metadata": {},
   "outputs": [
    {
     "name": "stdout",
     "output_type": "stream",
     "text": [
      "curses is not supported on this machine (please install/reinstall curses for an optimal experience)\n"
     ]
    }
   ],
   "source": [
    "import tflearn"
   ]
  },
  {
   "cell_type": "code",
   "execution_count": 2,
   "metadata": {},
   "outputs": [],
   "source": [
    "import nltk"
   ]
  },
  {
   "cell_type": "code",
   "execution_count": 3,
   "metadata": {},
   "outputs": [],
   "source": [
    "import tensorflow as tf\n",
    "import numpy as np\n",
    "import random\n",
    "import json"
   ]
  },
  {
   "cell_type": "code",
   "execution_count": 4,
   "metadata": {},
   "outputs": [
    {
     "name": "stderr",
     "output_type": "stream",
     "text": [
      "[nltk_data] Downloading package punkt to\n",
      "[nltk_data]     C:\\Users\\KIIT\\AppData\\Roaming\\nltk_data...\n",
      "[nltk_data]   Package punkt is already up-to-date!\n"
     ]
    }
   ],
   "source": [
    "nltk.download('punkt')\n",
    "from nltk.stem.lancaster import LancasterStemmer\n",
    "stemmer=LancasterStemmer()"
   ]
  },
  {
   "cell_type": "code",
   "execution_count": 5,
   "metadata": {},
   "outputs": [],
   "source": [
    "with open('Desktop/Poke.json') as json_data:\n",
    "    intents=json.load(json_data)"
   ]
  },
  {
   "cell_type": "code",
   "execution_count": 6,
   "metadata": {
    "scrolled": true
   },
   "outputs": [
    {
     "data": {
      "text/plain": [
       "{'intents': [{'context_set': '',\n",
       "   'images': [' '],\n",
       "   'patterns': ['Hi',\n",
       "    'How are you',\n",
       "    'Is anyone there?',\n",
       "    'Hello',\n",
       "    'Good day',\n",
       "    'Hey'],\n",
       "   'responses': ['Hello, thanks for visiting',\n",
       "    'Good to see you again',\n",
       "    'Hi there, how can I help?'],\n",
       "   'tag': 'greeting'},\n",
       "  {'images': [' '],\n",
       "   'patterns': ['Bye', 'See you later', 'Goodbye'],\n",
       "   'responses': ['See you later, thanks for visiting',\n",
       "    'Have a nice day',\n",
       "    'Bye! Come back again soon.'],\n",
       "   'tag': 'goodbye'},\n",
       "  {'images': [' '],\n",
       "   'patterns': ['Thanks', 'Thank you', \"That's helpful\"],\n",
       "   'responses': ['Happy to help!', 'Any time!', 'My pleasure'],\n",
       "   'tag': 'thanks'},\n",
       "  {'images': [' '],\n",
       "   'patterns': ['How can u help?',\n",
       "    'What can you do for me?',\n",
       "    'You are here for?',\n",
       "    'What is your name?',\n",
       "    'Your name?'],\n",
       "   'responses': ['I am Pokebot and I am here to give you info about 14 different types of pokemons like pikachu, caterpie, pidgeotto, bulbasaur, charmender, squirtle, krabby, raticate, haunter, primeape, muk, tauras, lapras and snorlax.'],\n",
       "   'tag': 'purpose'},\n",
       "  {'images': ['https://encrypted-tbn0.gstatic.com/images?q=tbn%3AANd9GcQHMLklnLwHcO06_wLOpI2WjlhIDwCaKAxGWQ&usqp=CAU'],\n",
       "   'patterns': ['Pikachu',\n",
       "    'Pika',\n",
       "    'Who is pikachu?',\n",
       "    'What is pikachu?',\n",
       "    'About pikachu'],\n",
       "   'responses': ['Pikachu is an electric type pokemon.\\nIt belongs to the mouse species.\\nIt can generate electric attacks.\\nBeing an electric type it is stronger against water, flying and ground type but weaker against electric, grass and dragon type pokemons.\\nIt is evolved from Pichu and it evolves to Raichu.'],\n",
       "   'tag': 'pikachu'},\n",
       "  {'images': ['https://encrypted-tbn0.gstatic.com/images?q=tbn%3AANd9GcQLh04ffiFniA6FbTUqvx785onh80EcaSs8og&usqp=CAU'],\n",
       "   'patterns': ['Caterpie',\n",
       "    'Who is caterpie?',\n",
       "    'What is caterpie?',\n",
       "    'About caterpie'],\n",
       "   'responses': ['Caterpie is a bug type pokemon.\\nIt has the ability of shield dust.\\nIt can release a strong ordour from its antenna.\\nIt evolves into Metapod.\\nIt belongs to the worm species.\\nIt is weaker against fire, flying and rock type but stronger against grass, poison, psychic type pokemons.'],\n",
       "   'tag': 'caterpie'},\n",
       "  {'images': ['https://encrypted-tbn0.gstatic.com/images?q=tbn%3AANd9GcSMQwETE837nMeRPOmy7Yi0NR6Cj56_9T3liA&usqp=CAU'],\n",
       "   'patterns': ['Pidgeotto',\n",
       "    'Who is pidgeotto?',\n",
       "    'What is pidgeotto?',\n",
       "    'About pidgeotto'],\n",
       "   'responses': ['Pidgeotto is a flying type pokemon.\\nIt is stronger against grass, fighting and bug type but weaker against electric and rock type pokemons.\\nIt evolves to Pidgeot and evolves from Pidgey.\\nIt belongs to the bird species.\\nIt has keen eye, tangled feet and big pecks.'],\n",
       "   'tag': 'pidgeotto'},\n",
       "  {'images': ['https://encrypted-tbn0.gstatic.com/images?q=tbn%3AANd9GcQenuNy2nxZb98yXjXehcsefGilOZ_01Jq4nQ&usqp=CAU'],\n",
       "   'patterns': ['Bulbasaur',\n",
       "    'Who is bulbasaur?',\n",
       "    'What is bulbasaur?',\n",
       "    'About balbasaur'],\n",
       "   'responses': ['Bulbasaur is a grass and poison type pokemon.\\nIt is stronger against water, ground and rock type but weaker against psychic, flying, ice and fire type pokemons.\\nIt evolves to Ivysaur.\\nIt belongs to the seed pokemon species.\\nIts abilities are leech seed, razor leaf, sleep powder and solar beam.'],\n",
       "   'tag': 'bulbasaur'},\n",
       "  {'images': ['https://encrypted-tbn0.gstatic.com/images?q=tbn%3AANd9GcQQO_399rW07wOMmVneNxlnfK8HWWoJDCW0aA&usqp=CAU'],\n",
       "   'patterns': ['Charmander',\n",
       "    'Who is charmander?',\n",
       "    'What is charmander?',\n",
       "    'About charmander'],\n",
       "   'responses': ['Charmander is a fire type pokemon.\\nIt is stronger against grass, ice, bug and fairy type but weaker against water, rock and dragon type pokemons.\\nIt evolves to charmeleon.\\nIt belongs to the lizard pokemon species.\\nIts abilities are blaze and solar power.'],\n",
       "   'tag': 'charmander'},\n",
       "  {'images': ['https://encrypted-tbn0.gstatic.com/images?q=tbn%3AANd9GcSh80Lc4hyr4c7zbqJM-DDaX54PfhKPeMb6ew&usqp=CAU'],\n",
       "   'patterns': ['squirtle',\n",
       "    'Who is squirtle?',\n",
       "    'What is squirtle?',\n",
       "    'About squirtle'],\n",
       "   'responses': ['Squirtle is a water type pokemon.\\nIt is stronger against fire, ground and rock type but weaker against water, grass, dragon and electric type pokemons.\\nIt evolves to Wartortle.\\nIt belongs to the turtle pokemon species.\\nIts abilities are bubble and aqua tail.'],\n",
       "   'tag': 'squirtle'},\n",
       "  {'images': ['https://png.pngitem.com/pimgs/s/364-3645050_pokemon-krabby-hd-png-download.png'],\n",
       "   'patterns': ['krabby', 'Who is krabby?', 'What is krabby?', 'About krabby'],\n",
       "   'responses': ['Krabby is a water type pokemon.\\nIt is stronger against fire, ground and rock type but weaker against electric and grass type pokemons.\\nIt evolves to Kingker.\\nIt belongs to the river crab species.\\nIts abilities are shell armor and hyper cutter.'],\n",
       "   'tag': 'krabby'},\n",
       "  {'images': ['https://encrypted-tbn0.gstatic.com/images?q=tbn%3AANd9GcQkd7k8pebbVPRPV4VoKmQXWwYnmqkJSck2NA&usqp=CAU'],\n",
       "   'patterns': ['Raticate',\n",
       "    'Who is raticate?',\n",
       "    'What is raticate?',\n",
       "    'About raticate'],\n",
       "   'responses': ['Raticate is a normal type pokemon.\\nIt is resistant to ghost type and weaker against fighting type pokemons.\\nIt evolves to Rattata.\\nIt belongs to the mouse pokemon species.\\nIts abilities are guts and run away.'],\n",
       "   'tag': 'raticate'},\n",
       "  {'images': ['https://encrypted-tbn0.gstatic.com/images?q=tbn%3AANd9GcSLsS9kNYZh7ZlfGa30_HFr-GV91Dg2vdCgHA&usqp=CAU'],\n",
       "   'patterns': ['Haunter',\n",
       "    'Who is haunter?',\n",
       "    'What is haunter?',\n",
       "    'About haunter'],\n",
       "   'responses': ['Haunter is a ghost and poison type pokemon.\\nIt is stronger against grass, bug and fairy type but weaker against ground, ghost and psychic type pokemons.\\nIt evolves from Gastly and evolves to Gengar.\\nIt belongs to the gas pokemon species.\\nIts ability is to levitate.'],\n",
       "   'tag': 'haunter'},\n",
       "  {'images': ['https://encrypted-tbn0.gstatic.com/images?q=tbn%3AANd9GcTp8eP3_yOLxTpl6Rlka_WHQbE8zR6mJ_p_uQ&usqp=CAU'],\n",
       "   'patterns': ['Primeape',\n",
       "    'Who is primeape?',\n",
       "    'What is primeape?',\n",
       "    'About primeape'],\n",
       "   'responses': ['Primeape is a fighting type pokemon.\\nIt is stronger against normal, ice,steel and rock type but weaker against psychic, flying and fairy type pokemons.\\nIt evolves from Mankey and evolves to Empirilla.\\nIt belongs to the pig monkey pokemon species.\\nIts abilities are anger point and vital spirit.'],\n",
       "   'tag': 'primeape'},\n",
       "  {'images': ['https://encrypted-tbn0.gstatic.com/images?q=tbn%3AANd9GcSDZcBqRJkU8HRfWcl0j5vwQw8bmgasRKSSkQ&usqp=CAU'],\n",
       "   'patterns': ['Muk', 'Who is muk?', 'What is muk?', 'About muk'],\n",
       "   'responses': ['Muk is a poison type pokemon.\\nIt is stronger against grass, bug and fairy type but weaker against ground, rock, psychic, poison and ghost type pokemons.\\nIt evolves from Grimer.\\nIt belongs to the sludge pokemon species.\\nIts abilities are sticky hold and stench.'],\n",
       "   'tag': 'muk'},\n",
       "  {'images': ['https://pokemongostop.org/images/pokemon/tauros.png'],\n",
       "   'patterns': ['Tauros', 'Who is tauros?', 'What is tauros?', 'About tauros'],\n",
       "   'responses': ['Tauros is a grass normal type pokemon.\\nIt is not affected by ghost type but weaker against rock type pokemons.\\nIt is a counter part of Miltank.\\nIt belongs to the wild bull pokemon species.\\nIts abilities are anger point and intimidate.'],\n",
       "   'tag': 'tauros'},\n",
       "  {'images': ['https://encrypted-tbn0.gstatic.com/images?q=tbn%3AANd9GcTzlJKOMhsn3WzmcLeFhkegRFrU57Qegh7etg&usqp=CAU'],\n",
       "   'patterns': ['Lapras', 'Who is lapras?', 'What is lapras?', 'About lapras'],\n",
       "   'responses': ['Lapras is a water and ice type pokemon.\\nIt is weaker against grass, electric and rock type pokemons.\\nIt belongs to the transport pokemon species.\\nIts abilities are shell armor and water absorb.'],\n",
       "   'tag': 'lapras'},\n",
       "  {'images': ['https://encrypted-tbn0.gstatic.com/images?q=tbn%3AANd9GcTR-E-nsp-BcjJ1-Ip5V375qH5dLQ2sTFFi4w&usqp=CAU'],\n",
       "   'patterns': ['Snorlax',\n",
       "    'Who is snorlax?',\n",
       "    'What is snorlax?',\n",
       "    'About snorlax'],\n",
       "   'responses': ['Snorlax is a normal type pokemon.\\nIt is weaker against fighting type pokemons.\\nIt evolves from Munchlax.\\nIt belongs to the sleeping pokemon species.\\nIts abilities are thick fat and immunity.'],\n",
       "   'tag': 'snorlax'}]}"
      ]
     },
     "execution_count": 6,
     "metadata": {},
     "output_type": "execute_result"
    }
   ],
   "source": [
    "intents"
   ]
  },
  {
   "cell_type": "code",
   "execution_count": 7,
   "metadata": {},
   "outputs": [],
   "source": [
    "words=[]\n",
    "classes=[]\n",
    "doc=[]\n",
    "ignore=['?']\n",
    "for intent in intents['intents']:\n",
    "    for pattern in intent['patterns']:\n",
    "        w=nltk.word_tokenize(pattern)\n",
    "        words.extend(w)\n",
    "        doc.append((w,intent['tag']))\n",
    "        if intent['tag'] not in classes:\n",
    "            classes.append(intent['tag'])"
   ]
  },
  {
   "cell_type": "code",
   "execution_count": 8,
   "metadata": {},
   "outputs": [],
   "source": [
    "words1=[stemmer.stem(w.lower()) for w in words if w not in ignore]\n",
    "words1=sorted(list(set(words1)))\n",
    "classes=sorted(list(set(classes)))"
   ]
  },
  {
   "cell_type": "code",
   "execution_count": 9,
   "metadata": {
    "scrolled": true
   },
   "outputs": [
    {
     "data": {
      "text/plain": [
       "[\"'s\",\n",
       " 'about',\n",
       " 'anyon',\n",
       " 'ar',\n",
       " 'balbasa',\n",
       " 'bulbasa',\n",
       " 'bye',\n",
       " 'can',\n",
       " 'caterpy',\n",
       " 'charmand',\n",
       " 'day',\n",
       " 'do',\n",
       " 'for',\n",
       " 'good',\n",
       " 'goodby',\n",
       " 'haunt',\n",
       " 'hello',\n",
       " 'help',\n",
       " 'her',\n",
       " 'hey',\n",
       " 'hi',\n",
       " 'how',\n",
       " 'is',\n",
       " 'krabby',\n",
       " 'lapra',\n",
       " 'lat',\n",
       " 'me',\n",
       " 'muk',\n",
       " 'nam',\n",
       " 'pidgeotto',\n",
       " 'pik',\n",
       " 'pikachu',\n",
       " 'primeap',\n",
       " 'rat',\n",
       " 'see',\n",
       " 'snorlax',\n",
       " 'squirtl',\n",
       " 'tauro',\n",
       " 'thank',\n",
       " 'that',\n",
       " 'ther',\n",
       " 'u',\n",
       " 'what',\n",
       " 'who',\n",
       " 'yo',\n",
       " 'you']"
      ]
     },
     "execution_count": 9,
     "metadata": {},
     "output_type": "execute_result"
    }
   ],
   "source": [
    "words1"
   ]
  },
  {
   "cell_type": "code",
   "execution_count": null,
   "metadata": {},
   "outputs": [],
   "source": []
  },
  {
   "cell_type": "code",
   "execution_count": 10,
   "metadata": {},
   "outputs": [],
   "source": [
    "training=[]\n",
    "output=[]\n",
    "output_empty=[0]*len(classes)\n"
   ]
  },
  {
   "cell_type": "code",
   "execution_count": 11,
   "metadata": {},
   "outputs": [],
   "source": [
    "for d in doc:\n",
    "    bag=[]\n",
    "    pattern_words=d[0]\n",
    "    pattern_words=[stemmer.stem(word.lower()) for word in pattern_words]\n",
    "    for w in words1:\n",
    "        bag.append(1) if w in pattern_words else bag.append(0)\n",
    "    output_row=list(output_empty)\n",
    "    output_row[classes.index(d[1])]=1\n",
    "    training.append([bag,output_row])"
   ]
  },
  {
   "cell_type": "code",
   "execution_count": 12,
   "metadata": {
    "scrolled": true
   },
   "outputs": [],
   "source": [
    "random.shuffle(training)"
   ]
  },
  {
   "cell_type": "code",
   "execution_count": 13,
   "metadata": {},
   "outputs": [],
   "source": [
    "training=np.array(training)"
   ]
  },
  {
   "cell_type": "code",
   "execution_count": 14,
   "metadata": {},
   "outputs": [],
   "source": [
    "train_X=list(training[:,0])\n",
    "train_Y=list(training[:,1])"
   ]
  },
  {
   "cell_type": "code",
   "execution_count": 15,
   "metadata": {},
   "outputs": [],
   "source": [
    "tf.reset_default_graph()"
   ]
  },
  {
   "cell_type": "code",
   "execution_count": 16,
   "metadata": {},
   "outputs": [],
   "source": [
    "net=tflearn.input_data(shape=[None,len(train_X[0])])"
   ]
  },
  {
   "cell_type": "code",
   "execution_count": 17,
   "metadata": {},
   "outputs": [],
   "source": [
    "net=tflearn.fully_connected(net,10)\n",
    "net=tflearn.fully_connected(net,10)\n",
    "net=tflearn.fully_connected(net,len(train_Y[0]),activation='softmax')"
   ]
  },
  {
   "cell_type": "code",
   "execution_count": 18,
   "metadata": {},
   "outputs": [
    {
     "name": "stdout",
     "output_type": "stream",
     "text": [
      "WARNING:tensorflow:From C:\\Users\\KIIT\\Miniconda3\\envs\\py35\\lib\\site-packages\\tflearn\\objectives.py:66: calling reduce_sum (from tensorflow.python.ops.math_ops) with keep_dims is deprecated and will be removed in a future version.\n",
      "Instructions for updating:\n",
      "keep_dims is deprecated, use keepdims instead\n"
     ]
    }
   ],
   "source": [
    "net=tflearn.regression(net)"
   ]
  },
  {
   "cell_type": "code",
   "execution_count": 19,
   "metadata": {},
   "outputs": [],
   "source": [
    "model=tflearn.DNN(net,tensorboard_dir='tflearn_logs')"
   ]
  },
  {
   "cell_type": "code",
   "execution_count": 21,
   "metadata": {},
   "outputs": [],
   "source": [
    "#model.fit(train_X,train_Y,n_epoch=2500,batch_size=16,show_metric=True)"
   ]
  },
  {
   "cell_type": "code",
   "execution_count": 21,
   "metadata": {},
   "outputs": [
    {
     "name": "stdout",
     "output_type": "stream",
     "text": [
      "INFO:tensorflow:C:\\Users\\KIIT\\model4_9999.tflearn is not in all_model_checkpoint_paths. Manually adding it.\n"
     ]
    }
   ],
   "source": [
    "#model.save('model4_9999.tflearn')"
   ]
  },
  {
   "cell_type": "code",
   "execution_count": 20,
   "metadata": {},
   "outputs": [],
   "source": [
    "import pickle"
   ]
  },
  {
   "cell_type": "code",
   "execution_count": 23,
   "metadata": {},
   "outputs": [],
   "source": [
    "#pickle.dump({'words':words1,'classes':classes,'train_x':train_X,'train_y':train_Y},open(\"training_data4\",\"wb\"))"
   ]
  },
  {
   "cell_type": "code",
   "execution_count": 21,
   "metadata": {},
   "outputs": [
    {
     "name": "stdout",
     "output_type": "stream",
     "text": [
      "INFO:tensorflow:Restoring parameters from C:\\Users\\KIIT\\model4_9999.tflearn\n"
     ]
    }
   ],
   "source": [
    "model.load('model4_9999.tflearn')"
   ]
  },
  {
   "cell_type": "code",
   "execution_count": 22,
   "metadata": {},
   "outputs": [],
   "source": [
    "data=pickle.load(open(\"training_data4\",\"rb\"))"
   ]
  },
  {
   "cell_type": "code",
   "execution_count": 23,
   "metadata": {},
   "outputs": [],
   "source": [
    "words=data['words']\n",
    "classes=data['classes']\n",
    "train_x=data['train_x']\n",
    "train_y=data['train_y']"
   ]
  },
  {
   "cell_type": "code",
   "execution_count": 24,
   "metadata": {},
   "outputs": [],
   "source": [
    "with open('Desktop/Poke.json') as json_data:\n",
    "    intents=json.load(json_data)"
   ]
  },
  {
   "cell_type": "code",
   "execution_count": 25,
   "metadata": {},
   "outputs": [],
   "source": [
    "def clean_up(sentence):\n",
    "    sentence_words=nltk.word_tokenize(sentence)\n",
    "    sentence_words=[stemmer.stem(word.lower()) for word in sentence_words]\n",
    "    return sentence_words\n",
    "\n",
    "def bow(sentence,words):\n",
    "    sentence_words=clean_up(sentence)\n",
    "    bag=[0]*len(words)\n",
    "    for s in sentence_words:\n",
    "        for i,w in enumerate(words):\n",
    "            if w==s:\n",
    "                bag[i]=1\n",
    "                \n",
    "    return np.array(bag)\n",
    "\n",
    "def classify(sentence):\n",
    "    results=model.predict([bow(sentence,words)])[0]\n",
    "    results=[[i,r] for i,r in enumerate(results) if r>0.40]\n",
    "    results.sort(key=lambda x:x[1],reverse=True)\n",
    "    return_list=[]\n",
    "    for r in results:\n",
    "        return_list.append((classes[r[0]],r[1]))\n",
    "    return return_list\n",
    "\n",
    "def response(sentence):\n",
    "    results=classify(sentence)\n",
    "    if results:\n",
    "        while results:\n",
    "            for i in intents['intents']:\n",
    "                if i['tag']==results[0][0]:\n",
    "                    return (random.choice(i['responses']),i['images'][0])\n",
    "            results.pop(0)\n",
    "    return ('res','url')\n",
    "        "
   ]
  },
  {
   "cell_type": "code",
   "execution_count": 29,
   "metadata": {},
   "outputs": [],
   "source": [
    "#from PIL import Image"
   ]
  },
  {
   "cell_type": "code",
   "execution_count": 26,
   "metadata": {},
   "outputs": [],
   "source": [
    "import tkinter as tk\n",
    "from tkinter import *\n",
    "from PIL import ImageTk\n",
    "from urllib.request import urlopen\n",
    "#from io import BytesIO\n",
    "import PIL.Image"
   ]
  },
  {
   "cell_type": "code",
   "execution_count": 27,
   "metadata": {
    "scrolled": false
   },
   "outputs": [],
   "source": [
    "'''def quit():\n",
    "    base.destroy()\n",
    "    exit()'''\n",
    "#import PIL.Image\n",
    "msg=''\n",
    "\n",
    "\n",
    "def send():\n",
    "    msg = EntryBox.get(\"1.0\",'end-1c').strip()\n",
    "    EntryBox.delete(\"0.0\",END)\n",
    "    if msg != '':\n",
    "        \n",
    "        ChatLog.config(state=NORMAL)\n",
    "        ChatLog.delete(\"0.0\",END)\n",
    "        ChatLog.insert(END, \"You: \" + msg + '\\n\\n')\n",
    "        ChatLog.config(foreground=\"#442265\", font=(\"Verdana\", 12 ))\n",
    "        (res,url)=response(msg)\n",
    "        \n",
    "        if( res!=None and url!=' ') and (res!='res' and url!='url'):\n",
    "            ''' = \"https://encrypted-tbn0.gstatic.com/images?q=tbn%3AANd9GcTR-E-nsp-BcjJ1-Ip5V375qH5dLQ2sTFFi4w&usqp=CAU\"\n",
    "            u = urlopen(URL)\n",
    "            raw_data = u.read()\n",
    "            u.close()\n",
    "            im = Image.open(BytesIO(raw_data))\n",
    "            \n",
    "            label.pack_forget()\n",
    "            i=PIL.Image.open(urlopen(url))\n",
    "            photo = ImageTk.PhotoImage(i)\n",
    "            #abel = tk.Label(image=photo)\n",
    "            label.image = photo\n",
    "            \n",
    "            \n",
    "            #abel.place(x=10,y=60)\n",
    "            #abel.destroy()'''\n",
    "            i=PIL.Image.open(urlopen(url))\n",
    "            photo = ImageTk.PhotoImage(i)\n",
    "            label.configure(image=photo)\n",
    "            label.image=photo\n",
    "            label.place(x=500,y=170)\n",
    "\n",
    "            ChatLog.insert(END, \"PokeBot: \" + res + '\\n\\n')\n",
    "            ChatLog.config(state=DISABLED)\n",
    "            ChatLog.yview(END)\n",
    "        elif res!=None and url==' ':\n",
    "            i=PIL.Image.open(urlopen(\"https://www.colorhexa.com/add8e6.png\"))\n",
    "            photo = ImageTk.PhotoImage(i)\n",
    "            label.configure(image=photo)\n",
    "            label.image=photo\n",
    "            label.place(x=500,y=170)\n",
    "            label.pack_forget()\n",
    "            ChatLog.insert(END, \"PokeBot: \" + res + '\\n\\n')\n",
    "            ChatLog.config(state=DISABLED)\n",
    "            ChatLog.yview(END)\n",
    "        else:\n",
    "            i=PIL.Image.open(urlopen(\"https://www.colorhexa.com/add8e6.png\"))\n",
    "            photo = ImageTk.PhotoImage(i)\n",
    "            label.configure(image=photo)\n",
    "            label.image=photo\n",
    "            label.place(x=500,y=170)\n",
    "            label.pack_forget()\n",
    "            ChatLog.insert(END, \"PokeBot: \" + \"Please be more specific I couldn't get you.\" + '\\n\\n')\n",
    "            ChatLog.config(state=DISABLED)\n",
    "            ChatLog.yview(END)\n",
    "\n",
    "base = Tk()\n",
    "base.title(\"Pokemon Trainees\")\n",
    "base.geometry(\"1200x600\")\n",
    "base.resizable(width=False, height=False)\n",
    "#Create Chat window\n",
    "ChatLog = Text(base, bd=0, bg=\"#ADD8E6\", height=\"8\", width=\"50\", font=\"Arial\",)\n",
    "ChatLog.config(state=DISABLED)\n",
    "#Bind scrollbar to Chat window\n",
    "scrollbar = Scrollbar(base, command=ChatLog.yview)\n",
    "ChatLog['yscrollcommand'] = scrollbar.set\n",
    "#Create Button to send message\n",
    "'''i=PIL.Image.open(urlopen(\"https://www.colorhexa.com/add8e6.png\"))\n",
    "photo = ImageTk.PhotoImage(i)'''\n",
    "label = tk.Label(base,image=None)\n",
    "SendButton = Button(base, font=(\"Verdana\",12,'bold'), text=\"Send\", width=\"12\", height=5,\n",
    "                    bd=0, bg=\"red\", activebackground=\"white\",fg='#ffffff',\n",
    "                    command= send )\n",
    "#Create the box to enter message\n",
    "EntryBox = Text(base, bd=0, bg=\"#ADD8E6\",width=\"29\", height=\"5\", font=\"Arial\")\n",
    "#EntryBox.bind(\"<Return>\", send)\n",
    "#Place all components on the screen\n",
    "#scrollbar.place(x=1180,height=386,width=20)\n",
    "ChatLog.place(x=6,y=6, height=510,width=1175)\n",
    "EntryBox.place(x=128, y=520,height=60, width=265)\n",
    "SendButton.place(x=6, y=520,height=60)\n",
    "#Button(base,text=\"Exit\",command=quit).pack()\n",
    "base.mainloop()"
   ]
  },
  {
   "cell_type": "code",
   "execution_count": null,
   "metadata": {},
   "outputs": [],
   "source": []
  }
 ],
 "metadata": {
  "kernelspec": {
   "display_name": "Python 3",
   "language": "python",
   "name": "python3"
  },
  "language_info": {
   "codemirror_mode": {
    "name": "ipython",
    "version": 3
   },
   "file_extension": ".py",
   "mimetype": "text/x-python",
   "name": "python",
   "nbconvert_exporter": "python",
   "pygments_lexer": "ipython3",
   "version": "3.5.6"
  }
 },
 "nbformat": 4,
 "nbformat_minor": 2
}
